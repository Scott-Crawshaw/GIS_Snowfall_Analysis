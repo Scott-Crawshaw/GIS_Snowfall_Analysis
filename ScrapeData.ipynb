{
 "cells": [
  {
   "cell_type": "code",
   "execution_count": 1,
   "id": "8231113c",
   "metadata": {},
   "outputs": [],
   "source": [
    "import pandas as pd\n",
    "url = \"https://www.ncdc.noaa.gov/snow-and-ice/daily-snow/MA-snowfall-{year}{month}.csv\""
   ]
  },
  {
   "cell_type": "code",
   "execution_count": 2,
   "id": "177f8982",
   "metadata": {},
   "outputs": [],
   "source": [
    "main_df = pd.read_csv(url.format(year=\"2015\", month=\"12\"), skiprows=1)\n",
    "main_df.columns = [str(col) + (\" 2015\") if any(i.isdigit() for i in str(col)) else str(col) for col in main_df.columns]\n",
    "for y in range(2016, 2022):\n",
    "    for m in range(1, 13):\n",
    "        if m > 8 and y == 2021:\n",
    "            break\n",
    "        if m >= 10:\n",
    "            m = str(m)\n",
    "        else:\n",
    "            m = \"0\" + str(m)\n",
    "\n",
    "        temp_df = pd.read_csv(url.format(year=y, month=m), skiprows=1)\n",
    "        temp_df.columns = [str(col) + (' ' + str(y)) if any(i.isdigit() for i in str(col)) else str(col) for col in temp_df.columns]\n",
    "        main_df = main_df.merge(temp_df, on='GHCN ID', how='left', suffixes=('', '_yx'))\n",
    "        main_df = main_df.drop(main_df.filter(regex='_yx$').columns.tolist(), axis=1)"
   ]
  },
  {
   "cell_type": "code",
   "execution_count": 8,
   "id": "3247d742",
   "metadata": {},
   "outputs": [],
   "source": [
    "main_df.to_pickle(\"snow_data.pkl\")"
   ]
  },
  {
   "cell_type": "code",
   "execution_count": null,
   "id": "a8a72f34",
   "metadata": {},
   "outputs": [],
   "source": []
  }
 ],
 "metadata": {
  "kernelspec": {
   "display_name": "Python 3 (ipykernel)",
   "language": "python",
   "name": "python3"
  },
  "language_info": {
   "codemirror_mode": {
    "name": "ipython",
    "version": 3
   },
   "file_extension": ".py",
   "mimetype": "text/x-python",
   "name": "python",
   "nbconvert_exporter": "python",
   "pygments_lexer": "ipython3",
   "version": "3.9.6"
  }
 },
 "nbformat": 4,
 "nbformat_minor": 5
}
